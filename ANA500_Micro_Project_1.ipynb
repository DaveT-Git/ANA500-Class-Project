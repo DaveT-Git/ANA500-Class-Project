{
 "cells": [
  {
   "cell_type": "markdown",
   "id": "1a7c688a-c631-4c7d-98ab-3c026cea2ba6",
   "metadata": {},
   "source": [
    "## ANA500 - Python for Data Science \n",
    "### Dave Terando\n",
    "### Micro-Project 1: Generate Data"
   ]
  },
  {
   "cell_type": "code",
   "execution_count": 2,
   "id": "1c5a10ed-cc8a-4e14-b72e-de2ebdfc5bca",
   "metadata": {},
   "outputs": [],
   "source": [
    "# Import the relevant libraries\n",
    "import numpy as np \n",
    "import pandas as pd \n",
    "import matplotlib.pyplot as plt"
   ]
  },
  {
   "cell_type": "markdown",
   "id": "ebb45f8a-5f24-4129-94b4-447797e15e98",
   "metadata": {},
   "source": [
    "### Part 1: Load and Inspect Data"
   ]
  },
  {
   "cell_type": "code",
   "execution_count": 3,
   "id": "410fcf39-8221-49e6-bb9c-fe1a024375ce",
   "metadata": {},
   "outputs": [],
   "source": [
    "# Load the csv files as datasets\n",
    "categorical_data = pd.read_csv('data_categorical.csv')\n",
    "ordinal_data = pd.read_csv('data_ordinal.csv')\n",
    "numeric_data = pd.read_csv('data_numeric.csv')"
   ]
  },
  {
   "cell_type": "markdown",
   "id": "b3a652c0-ce01-42fe-acf5-ba1516c62a78",
   "metadata": {},
   "source": [
    "#### Review Categorical Data"
   ]
  },
  {
   "cell_type": "code",
   "execution_count": 3,
   "id": "e244714e-d8e5-49ae-8b5b-c5d049f35b64",
   "metadata": {},
   "outputs": [
    {
     "data": {
      "text/html": [
       "<div>\n",
       "<style scoped>\n",
       "    .dataframe tbody tr th:only-of-type {\n",
       "        vertical-align: middle;\n",
       "    }\n",
       "\n",
       "    .dataframe tbody tr th {\n",
       "        vertical-align: top;\n",
       "    }\n",
       "\n",
       "    .dataframe thead th {\n",
       "        text-align: right;\n",
       "    }\n",
       "</style>\n",
       "<table border=\"1\" class=\"dataframe\">\n",
       "  <thead>\n",
       "    <tr style=\"text-align: right;\">\n",
       "      <th></th>\n",
       "      <th>PERSONID</th>\n",
       "      <th>DIABETE3</th>\n",
       "      <th>_RACE</th>\n",
       "      <th>MSCODE</th>\n",
       "      <th>FLUSHOT6</th>\n",
       "      <th>EMPLOY1</th>\n",
       "      <th>SEX</th>\n",
       "      <th>MARITAL</th>\n",
       "      <th>CVDCRHD4</th>\n",
       "      <th>HLTHCVR1</th>\n",
       "      <th>...</th>\n",
       "      <th>ADDEPEV2</th>\n",
       "      <th>RENTHOM1</th>\n",
       "      <th>EXERANY2</th>\n",
       "      <th>BLIND</th>\n",
       "      <th>DECIDE</th>\n",
       "      <th>HLTHPLN1</th>\n",
       "      <th>DIABETE3.1</th>\n",
       "      <th>_STATE</th>\n",
       "      <th>ASTHMA3</th>\n",
       "      <th>MARITAL.1</th>\n",
       "    </tr>\n",
       "  </thead>\n",
       "  <tbody>\n",
       "    <tr>\n",
       "      <th>0</th>\n",
       "      <td>355467</td>\n",
       "      <td>3.0</td>\n",
       "      <td>2.0</td>\n",
       "      <td>NaN</td>\n",
       "      <td>2.0</td>\n",
       "      <td>1.0</td>\n",
       "      <td>1.0</td>\n",
       "      <td>6.0</td>\n",
       "      <td>2.0</td>\n",
       "      <td>7.0</td>\n",
       "      <td>...</td>\n",
       "      <td>2.0</td>\n",
       "      <td>2.0</td>\n",
       "      <td>1.0</td>\n",
       "      <td>2.0</td>\n",
       "      <td>2.0</td>\n",
       "      <td>1.0</td>\n",
       "      <td>3.0</td>\n",
       "      <td>44.0</td>\n",
       "      <td>2.0</td>\n",
       "      <td>6.0</td>\n",
       "    </tr>\n",
       "    <tr>\n",
       "      <th>1</th>\n",
       "      <td>117235</td>\n",
       "      <td>3.0</td>\n",
       "      <td>1.0</td>\n",
       "      <td>5.0</td>\n",
       "      <td>1.0</td>\n",
       "      <td>7.0</td>\n",
       "      <td>2.0</td>\n",
       "      <td>3.0</td>\n",
       "      <td>2.0</td>\n",
       "      <td>2.0</td>\n",
       "      <td>...</td>\n",
       "      <td>2.0</td>\n",
       "      <td>1.0</td>\n",
       "      <td>2.0</td>\n",
       "      <td>2.0</td>\n",
       "      <td>2.0</td>\n",
       "      <td>1.0</td>\n",
       "      <td>3.0</td>\n",
       "      <td>19.0</td>\n",
       "      <td>2.0</td>\n",
       "      <td>3.0</td>\n",
       "    </tr>\n",
       "    <tr>\n",
       "      <th>2</th>\n",
       "      <td>268614</td>\n",
       "      <td>3.0</td>\n",
       "      <td>1.0</td>\n",
       "      <td>1.0</td>\n",
       "      <td>1.0</td>\n",
       "      <td>7.0</td>\n",
       "      <td>2.0</td>\n",
       "      <td>3.0</td>\n",
       "      <td>2.0</td>\n",
       "      <td>3.0</td>\n",
       "      <td>...</td>\n",
       "      <td>2.0</td>\n",
       "      <td>1.0</td>\n",
       "      <td>1.0</td>\n",
       "      <td>2.0</td>\n",
       "      <td>2.0</td>\n",
       "      <td>1.0</td>\n",
       "      <td>3.0</td>\n",
       "      <td>33.0</td>\n",
       "      <td>2.0</td>\n",
       "      <td>3.0</td>\n",
       "    </tr>\n",
       "    <tr>\n",
       "      <th>3</th>\n",
       "      <td>332821</td>\n",
       "      <td>3.0</td>\n",
       "      <td>4.0</td>\n",
       "      <td>NaN</td>\n",
       "      <td>2.0</td>\n",
       "      <td>1.0</td>\n",
       "      <td>1.0</td>\n",
       "      <td>1.0</td>\n",
       "      <td>2.0</td>\n",
       "      <td>NaN</td>\n",
       "      <td>...</td>\n",
       "      <td>2.0</td>\n",
       "      <td>2.0</td>\n",
       "      <td>1.0</td>\n",
       "      <td>2.0</td>\n",
       "      <td>2.0</td>\n",
       "      <td>1.0</td>\n",
       "      <td>3.0</td>\n",
       "      <td>40.0</td>\n",
       "      <td>2.0</td>\n",
       "      <td>1.0</td>\n",
       "    </tr>\n",
       "    <tr>\n",
       "      <th>4</th>\n",
       "      <td>348522</td>\n",
       "      <td>3.0</td>\n",
       "      <td>1.0</td>\n",
       "      <td>NaN</td>\n",
       "      <td>1.0</td>\n",
       "      <td>1.0</td>\n",
       "      <td>2.0</td>\n",
       "      <td>1.0</td>\n",
       "      <td>2.0</td>\n",
       "      <td>1.0</td>\n",
       "      <td>...</td>\n",
       "      <td>2.0</td>\n",
       "      <td>1.0</td>\n",
       "      <td>1.0</td>\n",
       "      <td>2.0</td>\n",
       "      <td>2.0</td>\n",
       "      <td>1.0</td>\n",
       "      <td>3.0</td>\n",
       "      <td>42.0</td>\n",
       "      <td>2.0</td>\n",
       "      <td>1.0</td>\n",
       "    </tr>\n",
       "  </tbody>\n",
       "</table>\n",
       "<p>5 rows × 23 columns</p>\n",
       "</div>"
      ],
      "text/plain": [
       "   PERSONID  DIABETE3  _RACE  MSCODE  FLUSHOT6  EMPLOY1  SEX  MARITAL  \\\n",
       "0    355467       3.0    2.0     NaN       2.0      1.0  1.0      6.0   \n",
       "1    117235       3.0    1.0     5.0       1.0      7.0  2.0      3.0   \n",
       "2    268614       3.0    1.0     1.0       1.0      7.0  2.0      3.0   \n",
       "3    332821       3.0    4.0     NaN       2.0      1.0  1.0      1.0   \n",
       "4    348522       3.0    1.0     NaN       1.0      1.0  2.0      1.0   \n",
       "\n",
       "   CVDCRHD4  HLTHCVR1  ...  ADDEPEV2  RENTHOM1  EXERANY2  BLIND  DECIDE  \\\n",
       "0       2.0       7.0  ...       2.0       2.0       1.0    2.0     2.0   \n",
       "1       2.0       2.0  ...       2.0       1.0       2.0    2.0     2.0   \n",
       "2       2.0       3.0  ...       2.0       1.0       1.0    2.0     2.0   \n",
       "3       2.0       NaN  ...       2.0       2.0       1.0    2.0     2.0   \n",
       "4       2.0       1.0  ...       2.0       1.0       1.0    2.0     2.0   \n",
       "\n",
       "   HLTHPLN1  DIABETE3.1  _STATE  ASTHMA3  MARITAL.1  \n",
       "0       1.0         3.0    44.0      2.0        6.0  \n",
       "1       1.0         3.0    19.0      2.0        3.0  \n",
       "2       1.0         3.0    33.0      2.0        3.0  \n",
       "3       1.0         3.0    40.0      2.0        1.0  \n",
       "4       1.0         3.0    42.0      2.0        1.0  \n",
       "\n",
       "[5 rows x 23 columns]"
      ]
     },
     "execution_count": 3,
     "metadata": {},
     "output_type": "execute_result"
    }
   ],
   "source": [
    "categorical_data.head()"
   ]
  },
  {
   "cell_type": "code",
   "execution_count": 4,
   "id": "4261a7ed-8b1c-4da6-9a80-51f4ad1c4966",
   "metadata": {},
   "outputs": [
    {
     "name": "stdout",
     "output_type": "stream",
     "text": [
      "Shape: (5000, 23)\n",
      "<class 'pandas.core.frame.DataFrame'>\n",
      "RangeIndex: 5000 entries, 0 to 4999\n",
      "Data columns (total 23 columns):\n",
      " #   Column      Non-Null Count  Dtype  \n",
      "---  ------      --------------  -----  \n",
      " 0   PERSONID    5000 non-null   int64  \n",
      " 1   DIABETE3    5000 non-null   float64\n",
      " 2   _RACE       4997 non-null   float64\n",
      " 3   MSCODE      3187 non-null   float64\n",
      " 4   FLUSHOT6    4762 non-null   float64\n",
      " 5   EMPLOY1     4981 non-null   float64\n",
      " 6   SEX         5000 non-null   float64\n",
      " 7   MARITAL     4990 non-null   float64\n",
      " 8   CVDCRHD4    5000 non-null   float64\n",
      " 9   HLTHCVR1    3318 non-null   float64\n",
      " 10  CHCKIDNY    5000 non-null   float64\n",
      " 11  USEEQUIP    4837 non-null   float64\n",
      " 12  _TOTINDA    5000 non-null   float64\n",
      " 13  ADDEPEV2    5000 non-null   float64\n",
      " 14  RENTHOM1    4898 non-null   float64\n",
      " 15  EXERANY2    5000 non-null   float64\n",
      " 16  BLIND       4830 non-null   float64\n",
      " 17  DECIDE      4829 non-null   float64\n",
      " 18  HLTHPLN1    5000 non-null   float64\n",
      " 19  DIABETE3.1  5000 non-null   float64\n",
      " 20  _STATE      5000 non-null   float64\n",
      " 21  ASTHMA3     5000 non-null   float64\n",
      " 22  MARITAL.1   4990 non-null   float64\n",
      "dtypes: float64(22), int64(1)\n",
      "memory usage: 898.6 KB\n"
     ]
    }
   ],
   "source": [
    "# Inspect structure\n",
    "print(\"Shape:\", categorical_data.shape)\n",
    "categorical_data.info()"
   ]
  },
  {
   "cell_type": "code",
   "execution_count": 5,
   "id": "508280e6-cc19-4e0b-9426-827e909e9e86",
   "metadata": {},
   "outputs": [
    {
     "name": "stdout",
     "output_type": "stream",
     "text": [
      "\n",
      "Frequency of each category:\n",
      "3.0    4251\n",
      "1.0     627\n",
      "4.0      76\n",
      "2.0      39\n",
      "9.0       5\n",
      "7.0       2\n",
      "Name: DIABETE3, dtype: int64\n"
     ]
    }
   ],
   "source": [
    "# Iterate through variables to view categories and category counts noting any 7/77/777 and 9/99/9999\n",
    "print(\"\\nFrequency of each category:\")\n",
    "print(categorical_data['DIABETE3'].value_counts())"
   ]
  },
  {
   "cell_type": "code",
   "execution_count": 25,
   "id": "6fcc7d6d-4202-4112-9b34-8a347341d41c",
   "metadata": {},
   "outputs": [
    {
     "name": "stdout",
     "output_type": "stream",
     "text": [
      "\n",
      "Frequency of each category:\n",
      "3.0    4251\n",
      "1.0     627\n",
      "4.0      76\n",
      "2.0      39\n",
      "9.0       5\n",
      "7.0       2\n",
      "Name: DIABETE3.1, dtype: int64\n"
     ]
    }
   ],
   "source": [
    "# Iterate through variables to view categories and category counts\n",
    "print(\"\\nFrequency of each category:\")\n",
    "print(categorical_data['DIABETE3.1'].value_counts())"
   ]
  },
  {
   "cell_type": "code",
   "execution_count": null,
   "id": "e8e42d48-6973-49b3-8cf6-5da749540079",
   "metadata": {},
   "outputs": [],
   "source": []
  },
  {
   "cell_type": "markdown",
   "id": "e068e52e-2c42-4446-87b8-ea6be999adb8",
   "metadata": {},
   "source": [
    "#### Review Ordinal Data"
   ]
  },
  {
   "cell_type": "code",
   "execution_count": 7,
   "id": "aa8dc721-847c-46ca-a362-266ee7c0770d",
   "metadata": {},
   "outputs": [
    {
     "data": {
      "text/html": [
       "<div>\n",
       "<style scoped>\n",
       "    .dataframe tbody tr th:only-of-type {\n",
       "        vertical-align: middle;\n",
       "    }\n",
       "\n",
       "    .dataframe tbody tr th {\n",
       "        vertical-align: top;\n",
       "    }\n",
       "\n",
       "    .dataframe thead th {\n",
       "        text-align: right;\n",
       "    }\n",
       "</style>\n",
       "<table border=\"1\" class=\"dataframe\">\n",
       "  <thead>\n",
       "    <tr style=\"text-align: right;\">\n",
       "      <th></th>\n",
       "      <th>PERSONID</th>\n",
       "      <th>DIABETE3</th>\n",
       "      <th>GENHLTH</th>\n",
       "      <th>_AGEG5YR</th>\n",
       "      <th>_BMI5CAT</th>\n",
       "      <th>CHECKUP1</th>\n",
       "      <th>INCOME2</th>\n",
       "      <th>_EDUCAG</th>\n",
       "      <th>SLEPTIM1</th>\n",
       "      <th>MENTHLTH</th>\n",
       "      <th>_SMOKER3</th>\n",
       "    </tr>\n",
       "  </thead>\n",
       "  <tbody>\n",
       "    <tr>\n",
       "      <th>0</th>\n",
       "      <td>355467</td>\n",
       "      <td>3.0</td>\n",
       "      <td>1.0</td>\n",
       "      <td>6.0</td>\n",
       "      <td>3.0</td>\n",
       "      <td>3.0</td>\n",
       "      <td>3.0</td>\n",
       "      <td>3.0</td>\n",
       "      <td>6.0</td>\n",
       "      <td>88.0</td>\n",
       "      <td>4.0</td>\n",
       "    </tr>\n",
       "    <tr>\n",
       "      <th>1</th>\n",
       "      <td>117235</td>\n",
       "      <td>3.0</td>\n",
       "      <td>1.0</td>\n",
       "      <td>10.0</td>\n",
       "      <td>3.0</td>\n",
       "      <td>1.0</td>\n",
       "      <td>4.0</td>\n",
       "      <td>2.0</td>\n",
       "      <td>7.0</td>\n",
       "      <td>88.0</td>\n",
       "      <td>4.0</td>\n",
       "    </tr>\n",
       "    <tr>\n",
       "      <th>2</th>\n",
       "      <td>268614</td>\n",
       "      <td>3.0</td>\n",
       "      <td>2.0</td>\n",
       "      <td>12.0</td>\n",
       "      <td>2.0</td>\n",
       "      <td>1.0</td>\n",
       "      <td>3.0</td>\n",
       "      <td>2.0</td>\n",
       "      <td>8.0</td>\n",
       "      <td>2.0</td>\n",
       "      <td>4.0</td>\n",
       "    </tr>\n",
       "    <tr>\n",
       "      <th>3</th>\n",
       "      <td>332821</td>\n",
       "      <td>3.0</td>\n",
       "      <td>2.0</td>\n",
       "      <td>3.0</td>\n",
       "      <td>2.0</td>\n",
       "      <td>1.0</td>\n",
       "      <td>8.0</td>\n",
       "      <td>4.0</td>\n",
       "      <td>6.0</td>\n",
       "      <td>15.0</td>\n",
       "      <td>3.0</td>\n",
       "    </tr>\n",
       "    <tr>\n",
       "      <th>4</th>\n",
       "      <td>348522</td>\n",
       "      <td>3.0</td>\n",
       "      <td>2.0</td>\n",
       "      <td>9.0</td>\n",
       "      <td>2.0</td>\n",
       "      <td>2.0</td>\n",
       "      <td>8.0</td>\n",
       "      <td>3.0</td>\n",
       "      <td>7.0</td>\n",
       "      <td>88.0</td>\n",
       "      <td>4.0</td>\n",
       "    </tr>\n",
       "  </tbody>\n",
       "</table>\n",
       "</div>"
      ],
      "text/plain": [
       "   PERSONID  DIABETE3  GENHLTH  _AGEG5YR  _BMI5CAT  CHECKUP1  INCOME2  \\\n",
       "0    355467       3.0      1.0       6.0       3.0       3.0      3.0   \n",
       "1    117235       3.0      1.0      10.0       3.0       1.0      4.0   \n",
       "2    268614       3.0      2.0      12.0       2.0       1.0      3.0   \n",
       "3    332821       3.0      2.0       3.0       2.0       1.0      8.0   \n",
       "4    348522       3.0      2.0       9.0       2.0       2.0      8.0   \n",
       "\n",
       "   _EDUCAG  SLEPTIM1  MENTHLTH  _SMOKER3  \n",
       "0      3.0       6.0      88.0       4.0  \n",
       "1      2.0       7.0      88.0       4.0  \n",
       "2      2.0       8.0       2.0       4.0  \n",
       "3      4.0       6.0      15.0       3.0  \n",
       "4      3.0       7.0      88.0       4.0  "
      ]
     },
     "execution_count": 7,
     "metadata": {},
     "output_type": "execute_result"
    }
   ],
   "source": [
    "ordinal_data.head()"
   ]
  },
  {
   "cell_type": "code",
   "execution_count": 8,
   "id": "ec19b489-25fa-4aa3-8c9b-61a3e6a115b8",
   "metadata": {},
   "outputs": [
    {
     "name": "stdout",
     "output_type": "stream",
     "text": [
      "Shape: (5000, 11)\n",
      "<class 'pandas.core.frame.DataFrame'>\n",
      "RangeIndex: 5000 entries, 0 to 4999\n",
      "Data columns (total 11 columns):\n",
      " #   Column    Non-Null Count  Dtype  \n",
      "---  ------    --------------  -----  \n",
      " 0   PERSONID  5000 non-null   int64  \n",
      " 1   DIABETE3  5000 non-null   float64\n",
      " 2   GENHLTH   5000 non-null   float64\n",
      " 3   _AGEG5YR  5000 non-null   float64\n",
      " 4   _BMI5CAT  4681 non-null   float64\n",
      " 5   CHECKUP1  5000 non-null   float64\n",
      " 6   INCOME2   4962 non-null   float64\n",
      " 7   _EDUCAG   5000 non-null   float64\n",
      " 8   SLEPTIM1  5000 non-null   float64\n",
      " 9   MENTHLTH  5000 non-null   float64\n",
      " 10  _SMOKER3  5000 non-null   float64\n",
      "dtypes: float64(10), int64(1)\n",
      "memory usage: 429.8 KB\n"
     ]
    }
   ],
   "source": [
    "# Inspect structure\n",
    "print(\"Shape:\", ordinal_data.shape)\n",
    "ordinal_data.info()"
   ]
  },
  {
   "cell_type": "code",
   "execution_count": 12,
   "id": "0e573abf-78ea-44cb-b99d-4c7ee423b818",
   "metadata": {},
   "outputs": [
    {
     "name": "stdout",
     "output_type": "stream",
     "text": [
      "\n",
      "Frequency of each category:\n",
      "3.0    1652\n",
      "2.0    1543\n",
      "4.0    1400\n",
      "1.0      86\n",
      "Name: _BMI5CAT, dtype: int64\n"
     ]
    }
   ],
   "source": [
    "# Iterate through variables to view categories and category counts noting any 7/77/777 and 9/99/9999\n",
    "print(\"\\nFrequency of each category:\")\n",
    "print(ordinal_data['_BMI5CAT'].value_counts())"
   ]
  },
  {
   "cell_type": "code",
   "execution_count": null,
   "id": "6e67f635-ca4c-4a79-ad9d-f033b2ea3e5f",
   "metadata": {},
   "outputs": [],
   "source": []
  },
  {
   "cell_type": "markdown",
   "id": "e4677e32-2862-4432-8fd1-32392a6c0785",
   "metadata": {},
   "source": [
    "#### Review Numeric Data"
   ]
  },
  {
   "cell_type": "code",
   "execution_count": 17,
   "id": "459316fb-1db3-421d-a5d2-43c31ee01721",
   "metadata": {},
   "outputs": [
    {
     "data": {
      "text/html": [
       "<div>\n",
       "<style scoped>\n",
       "    .dataframe tbody tr th:only-of-type {\n",
       "        vertical-align: middle;\n",
       "    }\n",
       "\n",
       "    .dataframe tbody tr th {\n",
       "        vertical-align: top;\n",
       "    }\n",
       "\n",
       "    .dataframe thead th {\n",
       "        text-align: right;\n",
       "    }\n",
       "</style>\n",
       "<table border=\"1\" class=\"dataframe\">\n",
       "  <thead>\n",
       "    <tr style=\"text-align: right;\">\n",
       "      <th></th>\n",
       "      <th>PERSONID</th>\n",
       "      <th>DIABETE3</th>\n",
       "      <th>NUMADULT</th>\n",
       "      <th>CHILDREN</th>\n",
       "      <th>WEIGHT2</th>\n",
       "      <th>DRVISITS</th>\n",
       "    </tr>\n",
       "  </thead>\n",
       "  <tbody>\n",
       "    <tr>\n",
       "      <th>0</th>\n",
       "      <td>355467</td>\n",
       "      <td>3.0</td>\n",
       "      <td>NaN</td>\n",
       "      <td>2.0</td>\n",
       "      <td>180.0</td>\n",
       "      <td>6.0</td>\n",
       "    </tr>\n",
       "    <tr>\n",
       "      <th>1</th>\n",
       "      <td>117235</td>\n",
       "      <td>3.0</td>\n",
       "      <td>1.0</td>\n",
       "      <td>88.0</td>\n",
       "      <td>160.0</td>\n",
       "      <td>2.0</td>\n",
       "    </tr>\n",
       "    <tr>\n",
       "      <th>2</th>\n",
       "      <td>268614</td>\n",
       "      <td>3.0</td>\n",
       "      <td>1.0</td>\n",
       "      <td>88.0</td>\n",
       "      <td>120.0</td>\n",
       "      <td>2.0</td>\n",
       "    </tr>\n",
       "    <tr>\n",
       "      <th>3</th>\n",
       "      <td>332821</td>\n",
       "      <td>3.0</td>\n",
       "      <td>NaN</td>\n",
       "      <td>88.0</td>\n",
       "      <td>160.0</td>\n",
       "      <td>NaN</td>\n",
       "    </tr>\n",
       "    <tr>\n",
       "      <th>4</th>\n",
       "      <td>348522</td>\n",
       "      <td>3.0</td>\n",
       "      <td>NaN</td>\n",
       "      <td>88.0</td>\n",
       "      <td>129.0</td>\n",
       "      <td>1.0</td>\n",
       "    </tr>\n",
       "  </tbody>\n",
       "</table>\n",
       "</div>"
      ],
      "text/plain": [
       "   PERSONID  DIABETE3  NUMADULT  CHILDREN  WEIGHT2  DRVISITS\n",
       "0    355467       3.0       NaN       2.0    180.0       6.0\n",
       "1    117235       3.0       1.0      88.0    160.0       2.0\n",
       "2    268614       3.0       1.0      88.0    120.0       2.0\n",
       "3    332821       3.0       NaN      88.0    160.0       NaN\n",
       "4    348522       3.0       NaN      88.0    129.0       1.0"
      ]
     },
     "execution_count": 17,
     "metadata": {},
     "output_type": "execute_result"
    }
   ],
   "source": [
    "numeric_data.head()"
   ]
  },
  {
   "cell_type": "code",
   "execution_count": 10,
   "id": "15ff839d-65dd-4eac-a234-b4bf3ddc107a",
   "metadata": {},
   "outputs": [
    {
     "name": "stdout",
     "output_type": "stream",
     "text": [
      "Shape: (5000, 6)\n",
      "<class 'pandas.core.frame.DataFrame'>\n",
      "RangeIndex: 5000 entries, 0 to 4999\n",
      "Data columns (total 6 columns):\n",
      " #   Column    Non-Null Count  Dtype  \n",
      "---  ------    --------------  -----  \n",
      " 0   PERSONID  5000 non-null   int64  \n",
      " 1   DIABETE3  5000 non-null   float64\n",
      " 2   NUMADULT  3240 non-null   float64\n",
      " 3   CHILDREN  4988 non-null   float64\n",
      " 4   WEIGHT2   4950 non-null   float64\n",
      " 5   DRVISITS  3567 non-null   float64\n",
      "dtypes: float64(5), int64(1)\n",
      "memory usage: 234.5 KB\n"
     ]
    }
   ],
   "source": [
    "# Inspect structure\n",
    "print(\"Shape:\", numeric_data.shape)\n",
    "numeric_data.info()"
   ]
  },
  {
   "cell_type": "code",
   "execution_count": 11,
   "id": "9a9375b9-8e4e-4436-a1a5-a084eb5d98f3",
   "metadata": {},
   "outputs": [
    {
     "name": "stdout",
     "output_type": "stream",
     "text": [
      "\n",
      "Frequency of each category:\n",
      "200.0     238\n",
      "160.0     222\n",
      "150.0     209\n",
      "180.0     196\n",
      "170.0     187\n",
      "190.0     180\n",
      "140.0     154\n",
      "9999.0    153\n",
      "130.0     136\n",
      "220.0     135\n",
      "165.0     133\n",
      "175.0     133\n",
      "135.0     120\n",
      "210.0     111\n",
      "185.0     106\n",
      "145.0     105\n",
      "155.0      98\n",
      "195.0      85\n",
      "125.0      85\n",
      "230.0      81\n",
      "120.0      79\n",
      "250.0      65\n",
      "7777.0     62\n",
      "240.0      61\n",
      "205.0      58\n",
      "225.0      49\n",
      "215.0      46\n",
      "110.0      43\n",
      "115.0      43\n",
      "138.0      41\n",
      "Name: WEIGHT2, dtype: int64\n"
     ]
    }
   ],
   "source": [
    "# Iterate through variables to view categories and category counts noting any 7/77/777 and 9/99/9999\n",
    "print(\"\\nFrequency of each category:\")\n",
    "print(numeric_data['WEIGHT2'].value_counts().head(30))"
   ]
  },
  {
   "cell_type": "code",
   "execution_count": null,
   "id": "77e4ba22-ae82-432b-a504-c4aa93f7ee71",
   "metadata": {},
   "outputs": [],
   "source": []
  },
  {
   "cell_type": "markdown",
   "id": "88e922ec-45ec-461c-a9af-57d02f592366",
   "metadata": {},
   "source": [
    "After reviewing all variables DIABETE3 and DIABETE3.1 as well as MARITAL and MARITAL.1 appear to be redundant variables."
   ]
  },
  {
   "cell_type": "code",
   "execution_count": null,
   "id": "8e3bba18-b94d-49dd-8a05-a35c6f268f88",
   "metadata": {},
   "outputs": [],
   "source": []
  },
  {
   "cell_type": "markdown",
   "id": "3eca8934-d464-42da-97c0-79dd2d9ac392",
   "metadata": {},
   "source": [
    "### Merge datasets and remove duplicate variables "
   ]
  },
  {
   "cell_type": "code",
   "execution_count": 4,
   "id": "1337b7a6-9a27-45ac-96e7-efeeacf404a1",
   "metadata": {},
   "outputs": [
    {
     "name": "stdout",
     "output_type": "stream",
     "text": [
      "Shape: (5000, 34)\n",
      "<class 'pandas.core.frame.DataFrame'>\n",
      "Int64Index: 5000 entries, 0 to 4999\n",
      "Data columns (total 34 columns):\n",
      " #   Column    Non-Null Count  Dtype  \n",
      "---  ------    --------------  -----  \n",
      " 0   PERSONID  5000 non-null   int64  \n",
      " 1   _RACE     4997 non-null   float64\n",
      " 2   MSCODE    3187 non-null   float64\n",
      " 3   FLUSHOT6  4762 non-null   float64\n",
      " 4   EMPLOY1   4981 non-null   float64\n",
      " 5   SEX       5000 non-null   float64\n",
      " 6   MARITAL   4990 non-null   float64\n",
      " 7   CVDCRHD4  5000 non-null   float64\n",
      " 8   HLTHCVR1  3318 non-null   float64\n",
      " 9   CHCKIDNY  5000 non-null   float64\n",
      " 10  USEEQUIP  4837 non-null   float64\n",
      " 11  _TOTINDA  5000 non-null   float64\n",
      " 12  ADDEPEV2  5000 non-null   float64\n",
      " 13  RENTHOM1  4898 non-null   float64\n",
      " 14  EXERANY2  5000 non-null   float64\n",
      " 15  BLIND     4830 non-null   float64\n",
      " 16  DECIDE    4829 non-null   float64\n",
      " 17  HLTHPLN1  5000 non-null   float64\n",
      " 18  _STATE    5000 non-null   float64\n",
      " 19  ASTHMA3   5000 non-null   float64\n",
      " 20  GENHLTH   5000 non-null   float64\n",
      " 21  _AGEG5YR  5000 non-null   float64\n",
      " 22  _BMI5CAT  4681 non-null   float64\n",
      " 23  CHECKUP1  5000 non-null   float64\n",
      " 24  INCOME2   4962 non-null   float64\n",
      " 25  _EDUCAG   5000 non-null   float64\n",
      " 26  SLEPTIM1  5000 non-null   float64\n",
      " 27  MENTHLTH  5000 non-null   float64\n",
      " 28  _SMOKER3  5000 non-null   float64\n",
      " 29  DIABETE3  5000 non-null   float64\n",
      " 30  NUMADULT  3240 non-null   float64\n",
      " 31  CHILDREN  4988 non-null   float64\n",
      " 32  WEIGHT2   4950 non-null   float64\n",
      " 33  DRVISITS  3567 non-null   float64\n",
      "dtypes: float64(33), int64(1)\n",
      "memory usage: 1.3 MB\n"
     ]
    }
   ],
   "source": [
    "# Merge the datasets sequentially\n",
    "# First, merge categorical with ordinal\n",
    "merged_df = pd.merge(categorical_data, ordinal_data, on='PERSONID', how='outer')\n",
    "\n",
    "# Then, merge with numeric\n",
    "final_merged_df = pd.merge(merged_df, numeric_data, on='PERSONID', how='outer')\n",
    "\n",
    "# Drop redundant columns from final_merged_df\n",
    "BFRSS2014_df = final_merged_df.drop(columns=['DIABETE3_x', 'DIABETE3_y', 'DIABETE3.1', 'MARITAL.1'])\n",
    "\n",
    "# Inspect structure\n",
    "print(\"Shape:\", BFRSS2014_df.shape)\n",
    "BFRSS2014_df.info()"
   ]
  },
  {
   "cell_type": "code",
   "execution_count": null,
   "id": "3ded8202-645b-4ac2-9ecf-203e84ee7343",
   "metadata": {},
   "outputs": [],
   "source": []
  },
  {
   "cell_type": "markdown",
   "id": "c8464a0a-94f8-45a4-ae6f-33a1697fc21a",
   "metadata": {},
   "source": [
    "### Part 2: Clean the Data"
   ]
  },
  {
   "cell_type": "markdown",
   "id": "004e9fb5-3ab2-407f-80ee-d5aa05b1142a",
   "metadata": {},
   "source": [
    "#### Convert weight in Kg to weight in lbs for WEIGHT2"
   ]
  },
  {
   "cell_type": "code",
   "execution_count": 5,
   "id": "c6881565-fe15-49e6-a183-60ac28d82b78",
   "metadata": {},
   "outputs": [
    {
     "name": "stdout",
     "output_type": "stream",
     "text": [
      "Missing values in WEIGHT2 after conversion:\n",
      "265\n",
      "\n",
      "WEIGHT2 summary statistics:\n",
      "count    4735.000000\n",
      "mean      177.054065\n",
      "std        44.549020\n",
      "min        75.000000\n",
      "25%       145.000000\n",
      "50%       170.000000\n",
      "75%       200.000000\n",
      "max       580.000000\n",
      "Name: WEIGHT2, dtype: float64\n",
      "\n",
      "Sample of WEIGHT2 values:\n",
      "0    180.0\n",
      "1    160.0\n",
      "2    120.0\n",
      "3    160.0\n",
      "4    129.0\n",
      "5    130.0\n",
      "6    255.0\n",
      "7    131.0\n",
      "8    142.0\n",
      "9    140.0\n",
      "Name: WEIGHT2, dtype: float64\n"
     ]
    }
   ],
   "source": [
    "# copy BFRSS2014_df to df to avoid modifying origional dataframe until ready\n",
    "df = BFRSS2014_df.copy()\n",
    "\n",
    "# Define the conversion function for WEIGHT2\n",
    "def convert_weight2(weight):\n",
    "    if pd.isna(weight):\n",
    "        return np.nan  # Preserve NaN for future imputation\n",
    "    weight = float(weight)\n",
    "    if 9000 <= weight <= 9998:  # Kilograms\n",
    "        kg = weight - 9000\n",
    "        return round(kg * 2.20462)  # Convert to pounds and round to nearest integer\n",
    "    elif 50 <= weight <= 999:  # Already in pounds\n",
    "        return weight\n",
    "    else:  # Invalid values (e.g., 7777, 9999)\n",
    "        return np.nan\n",
    "\n",
    "# Apply the conversion to WEIGHT2\n",
    "df['WEIGHT2'] = df['WEIGHT2'].apply(convert_weight2)\n",
    "\n",
    "# Update the original DataFrame\n",
    "BFRSS2014_df = df\n",
    "\n",
    "# Verify the results\n",
    "print(\"Missing values in WEIGHT2 after conversion:\")\n",
    "print(BFRSS2014_df['WEIGHT2'].isna().sum())\n",
    "print(\"\\nWEIGHT2 summary statistics:\")\n",
    "print(BFRSS2014_df['WEIGHT2'].describe())\n",
    "print(\"\\nSample of WEIGHT2 values:\")\n",
    "print(BFRSS2014_df['WEIGHT2'].head(10))"
   ]
  },
  {
   "cell_type": "code",
   "execution_count": 6,
   "id": "ba23f9e3-5c4d-4ab1-830a-cd2742ab0c83",
   "metadata": {},
   "outputs": [
    {
     "data": {
      "text/plain": [
       "200.0    238\n",
       "160.0    222\n",
       "150.0    209\n",
       "180.0    196\n",
       "170.0    187\n",
       "        ... \n",
       "388.0      1\n",
       "287.0      1\n",
       "291.0      1\n",
       "369.0      1\n",
       "84.0       1\n",
       "Name: WEIGHT2, Length: 223, dtype: int64"
      ]
     },
     "execution_count": 6,
     "metadata": {},
     "output_type": "execute_result"
    }
   ],
   "source": [
    "BFRSS2014_df['WEIGHT2'].value_counts()"
   ]
  },
  {
   "cell_type": "markdown",
   "id": "65065c51-808d-4157-bf72-05e944ac4326",
   "metadata": {},
   "source": [
    "#### View Histogram of WEIGHT2 before and after conversion."
   ]
  },
  {
   "cell_type": "code",
   "execution_count": 22,
   "id": "f89c190d-c1a1-4829-a398-88653ddcc908",
   "metadata": {},
   "outputs": [
    {
     "data": {
      "image/png": "[encoded data removed]",
      "text/plain": [
       "<Figure size 800x600 with 1 Axes>"
      ]
     },
     "metadata": {},
     "output_type": "display_data"
    },
    {
     "data": {
      "image/png": "[encoded data removed]",
      "text/plain": [
       "<Figure size 800x600 with 1 Axes>"
      ]
     },
     "metadata": {},
     "output_type": "display_data"
    }
   ],
   "source": [
    "import matplotlib.pyplot as plt\n",
    "\n",
    "# Histogram for WEIGHT2\n",
    "plt.figure(figsize=(8, 6))\n",
    "numeric_data['WEIGHT2'].hist(bins=30, edgecolor='black')\n",
    "plt.title('Distribution of WEIGHT2 origional')\n",
    "plt.xlabel('Weight (lbs)')\n",
    "plt.ylabel('Frequency')\n",
    "plt.show()\n",
    "\n",
    "# Histogram for WEIGHT2 after concrsion\n",
    "plt.figure(figsize=(8, 6))\n",
    "BFRSS2014_df['WEIGHT2'].hist(bins=30, edgecolor='black')\n",
    "plt.title('Distribution of WEIGHT2 after conversion')\n",
    "plt.xlabel('Weight (lbs)')\n",
    "plt.ylabel('Frequency')\n",
    "plt.show()"
   ]
  },
  {
   "cell_type": "code",
   "execution_count": null,
   "id": "01142676-3eea-4382-9e42-b1779743de5e",
   "metadata": {},
   "outputs": [],
   "source": []
  },
  {
   "cell_type": "markdown",
   "id": "b23b9076-e7fb-4df9-8039-96d46ee64de9",
   "metadata": {},
   "source": [
    "#### Impute missing values  \n",
    "\"dont know\" = 7/77/7777 and \"refused to respond\" = 9/99/9999 will be considered missing values as well."
   ]
  },
  {
   "cell_type": "code",
   "execution_count": 7,
   "id": "b2b0a7ab-0daa-486d-be33-b592205d8d10",
   "metadata": {},
   "outputs": [
    {
     "data": {
      "text/plain": [
       "MSCODE      1813\n",
       "NUMADULT    1760\n",
       "HLTHCVR1    1682\n",
       "DRVISITS    1433\n",
       "_BMI5CAT     319\n",
       "WEIGHT2      265\n",
       "FLUSHOT6     238\n",
       "DECIDE       171\n",
       "BLIND        170\n",
       "USEEQUIP     163\n",
       "RENTHOM1     102\n",
       "INCOME2       38\n",
       "EMPLOY1       19\n",
       "CHILDREN      12\n",
       "MARITAL       10\n",
       "_RACE          3\n",
       "SLEPTIM1       0\n",
       "_EDUCAG        0\n",
       "DIABETE3       0\n",
       "MENTHLTH       0\n",
       "dtype: int64"
      ]
     },
     "execution_count": 7,
     "metadata": {},
     "output_type": "execute_result"
    }
   ],
   "source": [
    "# Check missing values\n",
    "BFRSS2014_df.isna().sum().sort_values(ascending=False).head(20)"
   ]
  },
  {
   "cell_type": "code",
   "execution_count": null,
   "id": "2009dff7-43cb-4eaf-95dd-d92f45797b87",
   "metadata": {},
   "outputs": [],
   "source": []
  },
  {
   "cell_type": "markdown",
   "id": "62012401-059f-46a4-9e0a-045ad665d2ae",
   "metadata": {},
   "source": [
    "#### Use mode imputation for categorical/binary variables with low missing value rates."
   ]
  },
  {
   "cell_type": "code",
   "execution_count": 8,
   "id": "c1fdc7ae-4642-4518-b99e-8d8beb9d4d87",
   "metadata": {},
   "outputs": [
    {
     "name": "stdout",
     "output_type": "stream",
     "text": [
      "Imputed EMPLOY1 with mode: 1.0\n",
      "Imputed MARITAL with mode: 1.0\n",
      "Imputed _RACE with mode: 1.0\n",
      "Imputed CHILDREN with mode: 88.0\n",
      "Imputed CVDCRHD4 with mode: 2.0\n",
      "Imputed CHCKIDNY with mode: 2.0\n",
      "Imputed _TOTINDA with mode: 1.0\n",
      "Imputed ADDEPEV2 with mode: 2.0\n",
      "Imputed EXERANY2 with mode: 1.0\n",
      "Imputed HLTHPLN1 with mode: 1.0\n",
      "Imputed _STATE with mode: 31.0\n",
      "Imputed ASTHMA3 with mode: 2.0\n",
      "Imputed DIABETE3 with mode: 3.0\n",
      "Imputed RENTHOM1 with mode: 1.0\n",
      "\n",
      "Missing values after imputation:\n",
      "EMPLOY1     0\n",
      "MARITAL     0\n",
      "_RACE       0\n",
      "CHILDREN    0\n",
      "CVDCRHD4    0\n",
      "CHCKIDNY    0\n",
      "_TOTINDA    0\n",
      "ADDEPEV2    0\n",
      "EXERANY2    0\n",
      "HLTHPLN1    0\n",
      "_STATE      0\n",
      "ASTHMA3     0\n",
      "DIABETE3    0\n",
      "RENTHOM1    0\n",
      "dtype: int64\n"
     ]
    }
   ],
   "source": [
    "# impute missing values using most frequent values (mode) for select variables\n",
    "\n",
    "# copy BFRSS2014_df to df to avoid modifying origional dataframe until ready\n",
    "df = BFRSS2014_df.copy()\n",
    "\n",
    "# Define variables and their codes to impute as NaN\n",
    "impute_codes = {\n",
    "    'EMPLOY1': [9],\n",
    "    'MARITAL': [9],\n",
    "    '_RACE': [9],\n",
    "    'CHILDREN': [99],\n",
    "    'CVDCRHD4': [7, 9],\n",
    "    'CHCKIDNY': [7, 9],\n",
    "    '_TOTINDA': [9],\n",
    "    'ADDEPEV2': [7, 9],\n",
    "    'EXERANY2': [7, 9],\n",
    "    'HLTHPLN1': [7, 9],\n",
    "    '_STATE': [66, 72],\n",
    "    'ASTHMA3': [7, 9],\n",
    "    'DIABETE3': [7, 9],\n",
    "    'RENTHOM1': [7, 9]\n",
    "}\n",
    "\n",
    "# Step 1: Convert specified codes to NaN\n",
    "for var, codes in impute_codes.items():\n",
    "    df[var] = df[var].replace(codes, np.nan)\n",
    "\n",
    "# Step 2: Apply mode imputation for each variable\n",
    "for var in impute_codes.keys():\n",
    "    mode_value = df[var].mode()[0]  # Get the most frequent value\n",
    "    df[var] = df[var].fillna(mode_value)\n",
    "    print(f\"Imputed {var} with mode: {mode_value}\")\n",
    "\n",
    "# Update the original DataFrame\n",
    "BFRSS2014_df = df\n",
    "\n",
    "# Verify results\n",
    "print(\"\\nMissing values after imputation:\")\n",
    "print(BFRSS2014_df[list(impute_codes.keys())].isna().sum())\n",
    "#print(\"\\nValue counts after imputation:\")\n",
    "#for var in impute_codes.keys():\n",
    "#    print(f\"\\n{var}:\")\n",
    "#    print(BFRSS2014_df[var].value_counts().sort_index())"
   ]
  },
  {
   "cell_type": "code",
   "execution_count": null,
   "id": "16c302d0-8a42-4c63-be96-4c2584cd78ec",
   "metadata": {},
   "outputs": [],
   "source": []
  },
  {
   "cell_type": "markdown",
   "id": "0dd547ec-f989-47cb-bbf5-9a134b2b3c2c",
   "metadata": {},
   "source": [
    "#### Use median imputation for ordinal or count-like variables."
   ]
  },
  {
   "cell_type": "code",
   "execution_count": 9,
   "id": "a18c9b83-291a-44b2-867f-1bcd889225a7",
   "metadata": {},
   "outputs": [
    {
     "name": "stdout",
     "output_type": "stream",
     "text": [
      "Imputed INCOME2 with median: 6.0\n",
      "Imputed GENHLTH with median: 2.0\n",
      "Imputed _AGEG5YR with median: 8.0\n",
      "Imputed _EDUCAG with median: 3.0\n",
      "Imputed CHECKUP1 with median: 1.0\n",
      "Imputed SLEPTIM1 with median: 7.0\n",
      "Imputed MENTHLTH with median: 0.0\n",
      "\n",
      "Missing values after imputation:\n",
      "INCOME2     0\n",
      "GENHLTH     0\n",
      "_AGEG5YR    0\n",
      "_EDUCAG     0\n",
      "CHECKUP1    0\n",
      "SLEPTIM1    0\n",
      "MENTHLTH    0\n",
      "dtype: int64\n"
     ]
    }
   ],
   "source": [
    "# impute missing values using middle values (median) for select variables\n",
    "\n",
    "# copy BFRSS2014_df to df to avoid modifying origional dataframe until ready\n",
    "df = BFRSS2014_df.copy()\n",
    "\n",
    "# Define variables and their codes to impute as NaN\n",
    "impute_codes = {\n",
    "    'INCOME2': [77, 99],\n",
    "    'GENHLTH': [7, 9],\n",
    "    '_AGEG5YR': [14],\n",
    "    '_EDUCAG': [9],\n",
    "    'CHECKUP1': [7, 9],\n",
    "    'SLEPTIM1': [77, 99],\n",
    "    'MENTHLTH': [77, 99]\n",
    "}\n",
    "\n",
    "# Step 1: Handle special case for MENTHLTH (recode 88 to 0, as it means \"none\")\n",
    "df['MENTHLTH'] = df['MENTHLTH'].replace(88, 0)\n",
    "\n",
    "# Step 2: Convert specified codes to NaN\n",
    "for var, codes in impute_codes.items():\n",
    "    df[var] = df[var].replace(codes, np.nan)\n",
    "\n",
    "# Step 3: Apply median imputation for each variable\n",
    "for var in impute_codes.keys():\n",
    "    median_value = df[var].median()\n",
    "    df[var] = df[var].fillna(median_value)\n",
    "    print(f\"Imputed {var} with median: {median_value}\")\n",
    "\n",
    "# Update the original DataFrame\n",
    "BFRSS2014_df = df\n",
    "\n",
    "# Verify results\n",
    "print(\"\\nMissing values after imputation:\")\n",
    "print(BFRSS2014_df[list(impute_codes.keys())].isna().sum())\n",
    "#print(\"\\nValue counts after imputation:\")\n",
    "#for var in impute_codes.keys():\n",
    "#    print(f\"\\n{var}:\")\n",
    "#    print(BFRSS2014_df[var].value_counts().sort_index())"
   ]
  },
  {
   "cell_type": "code",
   "execution_count": null,
   "id": "21a1f0bb-2297-4189-8ced-4b012a999015",
   "metadata": {},
   "outputs": [],
   "source": []
  },
  {
   "cell_type": "markdown",
   "id": "63634d40-731a-4bd5-af0a-3a07a0f6516c",
   "metadata": {},
   "source": [
    "#### Use KNN imputation for high missing value rates."
   ]
  },
  {
   "cell_type": "code",
   "execution_count": 10,
   "id": "8891cfa0-f971-4f16-b5cd-8d859dfc1572",
   "metadata": {},
   "outputs": [
    {
     "name": "stdout",
     "output_type": "stream",
     "text": [
      "Missing values after imputation:\n",
      "HLTHCVR1    0\n",
      "FLUSHOT6    0\n",
      "DECIDE      0\n",
      "BLIND       0\n",
      "USEEQUIP    0\n",
      "DRVISITS    0\n",
      "WEIGHT2     0\n",
      "MSCODE      0\n",
      "NUMADULT    0\n",
      "_BMI5CAT    0\n",
      "dtype: int64\n"
     ]
    }
   ],
   "source": [
    "from sklearn.impute import KNNImputer\n",
    "\n",
    "# copy BFRSS2014_df to df to avoid modifying origional dataframe until ready\n",
    "df = BFRSS2014_df.copy()\n",
    "\n",
    "# Define variables and their codes to impute as NaN\n",
    "impute_codes = {\n",
    "    'HLTHCVR1': [77, 99],\n",
    "    'FLUSHOT6': [7, 9],\n",
    "    'DECIDE': [7, 9],\n",
    "    'BLIND': [7, 9],\n",
    "    'USEEQUIP': [7, 9],\n",
    "    'DRVISITS': [77],\n",
    "    'WEIGHT2': [7777, 9999],  # Already converted, but ensure any remaining codes are NaN\n",
    "    'MSCODE': [],  # No codes to impute\n",
    "    'NUMADULT': [],  # No codes to impute\n",
    "    '_BMI5CAT': []  # No codes to impute\n",
    "}\n",
    "\n",
    "# Define valid categories for mapping post-imputation\n",
    "valid_categories = {\n",
    "    'MSCODE': [1, 2, 3, 5],\n",
    "    'HLTHCVR1': [1, 2, 3, 4, 5, 6, 7, 8],\n",
    "    'FLUSHOT6': [1, 2],\n",
    "    'DECIDE': [1, 2],\n",
    "    'BLIND': [1, 2],\n",
    "    'USEEQUIP': [1, 2],\n",
    "    '_BMI5CAT': [1, 2, 3, 4],\n",
    "    'NUMADULT': [1, 2, 3, 4, 5, 6, 7]  # Treat as categorical for mapping\n",
    "}\n",
    "\n",
    "# Handle special case for DRVISITS (recode 88 to 0, as it means \"none\")\n",
    "df['DRVISITS'] = df['DRVISITS'].replace(88, 0)\n",
    "\n",
    "# Step 2: Convert specified codes to NaN\n",
    "for var, codes in impute_codes.items():\n",
    "    if codes:  # Only replace if there are codes to impute\n",
    "        df[var] = df[var].replace(codes, np.nan)\n",
    "\n",
    "# KNN imputation using all numerical columns\n",
    "numerical_cols = df.select_dtypes(include=['int64', 'float64']).columns.tolist()\n",
    "imputer = KNNImputer(n_neighbors=5)\n",
    "df_imputed = pd.DataFrame(imputer.fit_transform(df[numerical_cols]), \n",
    "                          columns=numerical_cols, \n",
    "                          index=df.index)\n",
    "\n",
    "# Map categorical variables to valid categories\n",
    "for var, categories in valid_categories.items():\n",
    "    df[var] = df_imputed[var].apply(lambda x: min(categories, key=lambda v: abs(v - x)))\n",
    "\n",
    "# Assign imputed continuous variables (WEIGHT2, DRVISITS) directly\n",
    "df['WEIGHT2'] = df_imputed['WEIGHT2']\n",
    "df['DRVISITS'] = df_imputed['DRVISITS']\n",
    "\n",
    "# Update the original DataFrame\n",
    "BFRSS2014_df = df\n",
    "\n",
    "# Verify results\n",
    "print(\"Missing values after imputation:\")\n",
    "print(BFRSS2014_df[list(impute_codes.keys())].isna().sum())"
   ]
  },
  {
   "cell_type": "code",
   "execution_count": null,
   "id": "ac99cdb2-e0ff-4b86-93bd-bbab9eb5242d",
   "metadata": {},
   "outputs": [],
   "source": []
  },
  {
   "cell_type": "code",
   "execution_count": 11,
   "id": "3ee8708b-33ab-4567-b5e3-fc06f8434ca9",
   "metadata": {},
   "outputs": [
    {
     "data": {
      "text/plain": [
       "PERSONID    0\n",
       "_EDUCAG     0\n",
       "ASTHMA3     0\n",
       "GENHLTH     0\n",
       "_AGEG5YR    0\n",
       "_BMI5CAT    0\n",
       "CHECKUP1    0\n",
       "INCOME2     0\n",
       "SLEPTIM1    0\n",
       "_RACE       0\n",
       "MENTHLTH    0\n",
       "_SMOKER3    0\n",
       "DIABETE3    0\n",
       "NUMADULT    0\n",
       "CHILDREN    0\n",
       "WEIGHT2     0\n",
       "_STATE      0\n",
       "HLTHPLN1    0\n",
       "DECIDE      0\n",
       "BLIND       0\n",
       "dtype: int64"
      ]
     },
     "execution_count": 11,
     "metadata": {},
     "output_type": "execute_result"
    }
   ],
   "source": [
    "# Re-check missing values\n",
    "BFRSS2014_df.isna().sum().sort_values(ascending=False).head(20)"
   ]
  },
  {
   "cell_type": "code",
   "execution_count": null,
   "id": "856fedb4-07ce-446f-9c26-9ca22eade971",
   "metadata": {},
   "outputs": [],
   "source": []
  },
  {
   "cell_type": "markdown",
   "id": "2959a9ef-7bbe-4706-b0bf-08870f57dce8",
   "metadata": {},
   "source": [
    "#### Recode target variable DIABETE3 to binary variable"
   ]
  },
  {
   "cell_type": "code",
   "execution_count": 23,
   "id": "b173d129-f78c-4a3c-90d2-0337040bf36b",
   "metadata": {},
   "outputs": [
    {
     "name": "stdout",
     "output_type": "stream",
     "text": [
      "\n",
      "DIABETE3 distribution:\n",
      "1.0     627\n",
      "2.0      39\n",
      "3.0    4258\n",
      "4.0      76\n",
      "Name: DIABETE3, dtype: int64\n"
     ]
    },
    {
     "data": {
      "image/png": "[encoded data removed]",
      "text/plain": [
       "<Figure size 800x600 with 1 Axes>"
      ]
     },
     "metadata": {},
     "output_type": "display_data"
    },
    {
     "name": "stdout",
     "output_type": "stream",
     "text": [
      "\n",
      "DIABETE3_binary distribution after recoding:\n",
      "0    4297\n",
      "1     703\n",
      "Name: DIABETE3_binary, dtype: int64\n"
     ]
    },
    {
     "data": {
      "image/png": "[encoded data removed]",
      "text/plain": [
       "<Figure size 800x600 with 1 Axes>"
      ]
     },
     "metadata": {},
     "output_type": "display_data"
    }
   ],
   "source": [
    "import matplotlib.pyplot as plt\n",
    "import seaborn as sns\n",
    "\n",
    "# copy BFRSS2014_df to df to avoid modifying origional dataframe until ready\n",
    "df = BFRSS2014_df.copy()\n",
    "\n",
    "# Recode DIABETE3 to binary: 1, 4 = Yes (1), 2, 3 = No (0)\n",
    "df['DIABETE3_binary'] = df['DIABETE3'].apply(lambda x: 1 if x in [1, 4] else 0)\n",
    "\n",
    "# Update the original DataFrame\n",
    "BFRSS2014_df = df\n",
    "\n",
    "# Distribution after recoding\n",
    "print(\"\\nDIABETE3 distribution:\")\n",
    "binary_counts = BFRSS2014_df['DIABETE3'].value_counts().sort_index()\n",
    "print(binary_counts)\n",
    "\n",
    "# Visualization: Bar plot for DIABETE3 (original)\n",
    "plt.figure(figsize=(8, 6))\n",
    "sns.countplot(x='DIABETE3', data=BFRSS2014_df), #order=[1, 2, 3, 4])\n",
    "plt.title('Distribution of DIABETE3 (Original)')\n",
    "plt.xlabel('Diabetes Status (1=Yes, 2=Gestational, 3=No, 4=Pre-diabetes)')\n",
    "plt.ylabel('Count')\n",
    "plt.show()\n",
    "\n",
    "# Verify distribution after recoding\n",
    "print(\"\\nDIABETE3_binary distribution after recoding:\")\n",
    "binary_counts = BFRSS2014_df['DIABETE3_binary'].value_counts().sort_index()\n",
    "print(binary_counts)\n",
    "\n",
    "# Visualization: Bar plot for DIABETE3_binary\n",
    "plt.figure(figsize=(8, 6))\n",
    "sns.countplot(x='DIABETE3_binary', data=BFRSS2014_df, order=[0, 1])\n",
    "plt.title('Distribution of DIABETE3_binary (0=No, 1=Yes)')\n",
    "plt.xlabel('Diabetes Status (0=No, 1=Yes)')\n",
    "plt.ylabel('Count')\n",
    "plt.show()"
   ]
  },
  {
   "cell_type": "code",
   "execution_count": 14,
   "id": "e07d17ff-d1fc-40f1-9a96-2179cda4e2f9",
   "metadata": {},
   "outputs": [
    {
     "data": {
      "text/plain": [
       "(5000, 35)"
      ]
     },
     "execution_count": 14,
     "metadata": {},
     "output_type": "execute_result"
    }
   ],
   "source": [
    "# Check for 35th variable (DIABETE3_binary) in BFRSS2014_df\n",
    "BFRSS2014_df.shape"
   ]
  },
  {
   "cell_type": "code",
   "execution_count": null,
   "id": "8c0866f3-acfe-4aef-9262-425479668871",
   "metadata": {},
   "outputs": [],
   "source": []
  },
  {
   "cell_type": "markdown",
   "id": "aa4a9a2f-d182-45bf-960b-1291001aeb6e",
   "metadata": {},
   "source": [
    "#### Check continuous variables (WEIGHT2, DRVISITS) for outliers."
   ]
  },
  {
   "cell_type": "code",
   "execution_count": 15,
   "id": "58d8ba9b-6a4f-4fb4-a093-79967db5d634",
   "metadata": {},
   "outputs": [
    {
     "name": "stdout",
     "output_type": "stream",
     "text": [
      "\n",
      "WEIGHT2 summary statistics:\n",
      "count    5000.000000\n",
      "mean      177.189240\n",
      "std        43.656164\n",
      "min        75.000000\n",
      "25%       145.000000\n",
      "50%       170.000000\n",
      "75%       200.000000\n",
      "max       580.000000\n",
      "Name: WEIGHT2, dtype: float64\n"
     ]
    },
    {
     "data": {
      "image/png": "[encoded data removed]",
      "text/plain": [
       "<Figure size 800x600 with 1 Axes>"
      ]
     },
     "metadata": {},
     "output_type": "display_data"
    },
    {
     "name": "stdout",
     "output_type": "stream",
     "text": [
      "\n",
      "DRVISITS summary statistics:\n",
      "count    5000.000000\n",
      "mean        5.437320\n",
      "std         7.682001\n",
      "min         0.000000\n",
      "25%         2.000000\n",
      "50%         4.000000\n",
      "75%         6.200000\n",
      "max        99.000000\n",
      "Name: DRVISITS, dtype: float64\n"
     ]
    },
    {
     "data": {
      "image/png": "[encoded data removed]",
      "text/plain": [
       "<Figure size 800x600 with 1 Axes>"
      ]
     },
     "metadata": {},
     "output_type": "display_data"
    }
   ],
   "source": [
    "# WEIGHT@ Summart Statistics\n",
    "print(\"\\nWEIGHT2 summary statistics:\")\n",
    "print(BFRSS2014_df['WEIGHT2'].describe())\n",
    "\n",
    "# Histogram for WEIGHT2\n",
    "plt.figure(figsize=(8, 6))\n",
    "BFRSS2014_df['WEIGHT2'].hist(bins=30, edgecolor='black')\n",
    "plt.title('Distribution of WEIGHT2 (in Pounds) After KNN Imputation')\n",
    "plt.xlabel('Weight (lbs)')\n",
    "plt.ylabel('Frequency')\n",
    "plt.show()\n",
    "\n",
    "# DRVISITS Summary Statistics\n",
    "print(\"\\nDRVISITS summary statistics:\")\n",
    "print(BFRSS2014_df['DRVISITS'].describe())\n",
    "\n",
    "# Histogram for DRVISITS\n",
    "plt.figure(figsize=(8, 6))\n",
    "BFRSS2014_df['DRVISITS'].hist(bins=30, edgecolor='black')\n",
    "plt.title('Distribution of DRVISITS')\n",
    "plt.xlabel('Doctor Visits (Last 12 Months')\n",
    "plt.ylabel('Frequency')\n",
    "plt.show()"
   ]
  },
  {
   "cell_type": "markdown",
   "id": "799e6a33-b63f-4b9d-92fb-1af3d46e6ca0",
   "metadata": {},
   "source": [
    "#### Apply the Interquartile Range (IQR) method to detect and handle outliers"
   ]
  },
  {
   "cell_type": "code",
   "execution_count": 25,
   "id": "9a3f7fdd-c97a-4dcb-8303-4499043e9ef6",
   "metadata": {},
   "outputs": [
    {
     "data": {
      "text/html": [
       "<div>\n",
       "<style scoped>\n",
       "    .dataframe tbody tr th:only-of-type {\n",
       "        vertical-align: middle;\n",
       "    }\n",
       "\n",
       "    .dataframe tbody tr th {\n",
       "        vertical-align: top;\n",
       "    }\n",
       "\n",
       "    .dataframe thead th {\n",
       "        text-align: right;\n",
       "    }\n",
       "</style>\n",
       "<table border=\"1\" class=\"dataframe\">\n",
       "  <thead>\n",
       "    <tr style=\"text-align: right;\">\n",
       "      <th></th>\n",
       "      <th>WEIGHT2</th>\n",
       "      <th>WEIGHT2_capped</th>\n",
       "    </tr>\n",
       "  </thead>\n",
       "  <tbody>\n",
       "    <tr>\n",
       "      <th>count</th>\n",
       "      <td>5000.000000</td>\n",
       "      <td>5000.000000</td>\n",
       "    </tr>\n",
       "    <tr>\n",
       "      <th>mean</th>\n",
       "      <td>177.189240</td>\n",
       "      <td>176.410540</td>\n",
       "    </tr>\n",
       "    <tr>\n",
       "      <th>std</th>\n",
       "      <td>43.656164</td>\n",
       "      <td>40.914845</td>\n",
       "    </tr>\n",
       "    <tr>\n",
       "      <th>min</th>\n",
       "      <td>75.000000</td>\n",
       "      <td>75.000000</td>\n",
       "    </tr>\n",
       "    <tr>\n",
       "      <th>25%</th>\n",
       "      <td>145.000000</td>\n",
       "      <td>145.000000</td>\n",
       "    </tr>\n",
       "    <tr>\n",
       "      <th>50%</th>\n",
       "      <td>170.000000</td>\n",
       "      <td>170.000000</td>\n",
       "    </tr>\n",
       "    <tr>\n",
       "      <th>75%</th>\n",
       "      <td>200.000000</td>\n",
       "      <td>200.000000</td>\n",
       "    </tr>\n",
       "    <tr>\n",
       "      <th>max</th>\n",
       "      <td>580.000000</td>\n",
       "      <td>282.500000</td>\n",
       "    </tr>\n",
       "  </tbody>\n",
       "</table>\n",
       "</div>"
      ],
      "text/plain": [
       "           WEIGHT2  WEIGHT2_capped\n",
       "count  5000.000000     5000.000000\n",
       "mean    177.189240      176.410540\n",
       "std      43.656164       40.914845\n",
       "min      75.000000       75.000000\n",
       "25%     145.000000      145.000000\n",
       "50%     170.000000      170.000000\n",
       "75%     200.000000      200.000000\n",
       "max     580.000000      282.500000"
      ]
     },
     "execution_count": 25,
     "metadata": {},
     "output_type": "execute_result"
    }
   ],
   "source": [
    "q1, q3 = BFRSS2014_df[\"WEIGHT2\"].quantile([0.25, 0.75])\n",
    "iqr = q3 - q1\n",
    "low, high = q1 - 1.5*iqr, q3 + 1.5*iqr\n",
    "BFRSS2014_df[\"WEIGHT2_capped\"] = BFRSS2014_df[\"WEIGHT2\"].clip(lower=low, upper=high)\n",
    "BFRSS2014_df[[\"WEIGHT2\",\"WEIGHT2_capped\"]].describe()"
   ]
  },
  {
   "cell_type": "code",
   "execution_count": 28,
   "id": "ac12727b-0450-4f88-8668-689169dae23e",
   "metadata": {},
   "outputs": [
    {
     "data": {
      "text/html": [
       "<div>\n",
       "<style scoped>\n",
       "    .dataframe tbody tr th:only-of-type {\n",
       "        vertical-align: middle;\n",
       "    }\n",
       "\n",
       "    .dataframe tbody tr th {\n",
       "        vertical-align: top;\n",
       "    }\n",
       "\n",
       "    .dataframe thead th {\n",
       "        text-align: right;\n",
       "    }\n",
       "</style>\n",
       "<table border=\"1\" class=\"dataframe\">\n",
       "  <thead>\n",
       "    <tr style=\"text-align: right;\">\n",
       "      <th></th>\n",
       "      <th>DRVISITS</th>\n",
       "      <th>DRVISITS_capped</th>\n",
       "    </tr>\n",
       "  </thead>\n",
       "  <tbody>\n",
       "    <tr>\n",
       "      <th>count</th>\n",
       "      <td>5000.000000</td>\n",
       "      <td>5000.000000</td>\n",
       "    </tr>\n",
       "    <tr>\n",
       "      <th>mean</th>\n",
       "      <td>5.437320</td>\n",
       "      <td>4.551900</td>\n",
       "    </tr>\n",
       "    <tr>\n",
       "      <th>std</th>\n",
       "      <td>7.682001</td>\n",
       "      <td>3.439237</td>\n",
       "    </tr>\n",
       "    <tr>\n",
       "      <th>min</th>\n",
       "      <td>0.000000</td>\n",
       "      <td>0.000000</td>\n",
       "    </tr>\n",
       "    <tr>\n",
       "      <th>25%</th>\n",
       "      <td>2.000000</td>\n",
       "      <td>2.000000</td>\n",
       "    </tr>\n",
       "    <tr>\n",
       "      <th>50%</th>\n",
       "      <td>4.000000</td>\n",
       "      <td>4.000000</td>\n",
       "    </tr>\n",
       "    <tr>\n",
       "      <th>75%</th>\n",
       "      <td>6.200000</td>\n",
       "      <td>6.200000</td>\n",
       "    </tr>\n",
       "    <tr>\n",
       "      <th>max</th>\n",
       "      <td>99.000000</td>\n",
       "      <td>12.500000</td>\n",
       "    </tr>\n",
       "  </tbody>\n",
       "</table>\n",
       "</div>"
      ],
      "text/plain": [
       "          DRVISITS  DRVISITS_capped\n",
       "count  5000.000000      5000.000000\n",
       "mean      5.437320         4.551900\n",
       "std       7.682001         3.439237\n",
       "min       0.000000         0.000000\n",
       "25%       2.000000         2.000000\n",
       "50%       4.000000         4.000000\n",
       "75%       6.200000         6.200000\n",
       "max      99.000000        12.500000"
      ]
     },
     "execution_count": 28,
     "metadata": {},
     "output_type": "execute_result"
    }
   ],
   "source": [
    "q1, q3 = BFRSS2014_df[\"DRVISITS\"].quantile([0.25, 0.75])\n",
    "iqr = q3 - q1\n",
    "low, high = q1 - 1.5*iqr, q3 + 1.5*iqr\n",
    "BFRSS2014_df[\"DRVISITS_capped\"] = BFRSS2014_df[\"DRVISITS\"].clip(lower=low, upper=high)\n",
    "BFRSS2014_df[[\"DRVISITS\",\"DRVISITS_capped\"]].describe()"
   ]
  },
  {
   "cell_type": "code",
   "execution_count": 29,
   "id": "ff1bdee6-c9de-418c-880a-d9e54293364a",
   "metadata": {},
   "outputs": [
    {
     "data": {
      "image/png": "[encoded data removed]",
      "text/plain": [
       "<Figure size 800x600 with 1 Axes>"
      ]
     },
     "metadata": {},
     "output_type": "display_data"
    },
    {
     "data": {
      "image/png": "[encoded data removed]",
      "text/plain": [
       "<Figure size 800x600 with 1 Axes>"
      ]
     },
     "metadata": {},
     "output_type": "display_data"
    }
   ],
   "source": [
    "# Histogram for WEIGHT2 after outlier capping\n",
    "plt.figure(figsize=(8, 6))\n",
    "BFRSS2014_df['WEIGHT2_capped'].hist(bins=30, edgecolor='black')\n",
    "plt.title('Distribution of WEIGHT2 (in Pounds) After Outlier Capping')\n",
    "plt.xlabel('Weight (lbs)')\n",
    "plt.ylabel('Frequency')\n",
    "plt.show()\n",
    "\n",
    "# Histogram for DRVISITS after outlier capping\n",
    "plt.figure(figsize=(8, 6))\n",
    "BFRSS2014_df['DRVISITS_capped'].hist(bins=30, edgecolor='black')\n",
    "plt.title('Distribution of DRVISITS After Outlier Capping')\n",
    "plt.xlabel('Doctor Visits')\n",
    "plt.ylabel('Frequency')\n",
    "plt.show()"
   ]
  },
  {
   "cell_type": "code",
   "execution_count": null,
   "id": "9ce9b06d-a4ca-434a-9bdc-add9dae1d9df",
   "metadata": {},
   "outputs": [],
   "source": []
  },
  {
   "cell_type": "code",
   "execution_count": null,
   "id": "865823c0-f9bd-4a7f-a8ed-0d783fddd1ff",
   "metadata": {},
   "outputs": [],
   "source": []
  },
  {
   "cell_type": "code",
   "execution_count": null,
   "id": "83f1e4ee-af12-4ebe-b567-521f04ccdddd",
   "metadata": {},
   "outputs": [],
   "source": []
  },
  {
   "cell_type": "code",
   "execution_count": null,
   "id": "ff16c5d5-e916-4018-9e81-faa92fd07930",
   "metadata": {},
   "outputs": [],
   "source": []
  },
  {
   "cell_type": "markdown",
   "id": "7351f3e6-b01c-4d50-ab94-e639a53625f1",
   "metadata": {},
   "source": [
    "### Things to do for module 2"
   ]
  },
  {
   "cell_type": "markdown",
   "id": "ce99aded-c04a-4ced-bfe5-87799ceef740",
   "metadata": {},
   "source": [
    "Correlation heatmap for numerical variables"
   ]
  },
  {
   "cell_type": "markdown",
   "id": "dde9f2f0-f57e-4c0d-8db1-c4bb5253ea13",
   "metadata": {},
   "source": [
    "Explore DIABETE3_binary vs. predictors"
   ]
  },
  {
   "cell_type": "markdown",
   "id": "29488210-4b33-42a0-96ac-585554b6e06d",
   "metadata": {},
   "source": [
    "Additional plots and visualizations."
   ]
  },
  {
   "cell_type": "markdown",
   "id": "b83d3469-854f-4c3e-ba9c-cc0341c83bc7",
   "metadata": {},
   "source": [
    "Scale/encode features."
   ]
  },
  {
   "cell_type": "markdown",
   "id": "fdb6dbf1-5085-40f3-b770-16bda1dc9bed",
   "metadata": {},
   "source": [
    "Feature selection"
   ]
  },
  {
   "cell_type": "markdown",
   "id": "7b6dae27-681e-4b4f-9cf6-e8c3fcbe67dc",
   "metadata": {},
   "source": [
    "Analyze data"
   ]
  },
  {
   "cell_type": "code",
   "execution_count": null,
   "id": "4b24da10-737a-4ee7-a1d6-e3ebee1f9c18",
   "metadata": {},
   "outputs": [],
   "source": []
  },
  {
   "cell_type": "code",
   "execution_count": null,
   "id": "6ac8d778-a4f8-410e-9ff2-4a686775e321",
   "metadata": {},
   "outputs": [],
   "source": []
  },
  {
   "cell_type": "code",
   "execution_count": null,
   "id": "6f17004d-a623-445a-ab04-e2d3ad509bde",
   "metadata": {},
   "outputs": [],
   "source": []
  },
  {
   "cell_type": "code",
   "execution_count": null,
   "id": "24a3ab4a-754f-4535-9ea3-16b84b8843d4",
   "metadata": {},
   "outputs": [],
   "source": []
  },
  {
   "cell_type": "code",
   "execution_count": null,
   "id": "b471b4cf-a294-461a-a602-1fe882a7dc3c",
   "metadata": {},
   "outputs": [],
   "source": []
  }
 ],
 "metadata": {
  "kernelspec": {
   "display_name": "Python [conda env:base] *",
   "language": "python",
   "name": "conda-base-py"
  },
  "language_info": {
   "codemirror_mode": {
    "name": "ipython",
    "version": 3
   },
   "file_extension": ".py",
   "mimetype": "text/x-python",
   "name": "python",
   "nbconvert_exporter": "python",
   "pygments_lexer": "ipython3",
   "version": "3.12.7"
  }
 },
 "nbformat": 4,
 "nbformat_minor": 5
}
